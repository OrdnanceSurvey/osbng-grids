{
 "cells": [
  {
   "cell_type": "markdown",
   "metadata": {},
   "source": [
    "# Create Ordnance Survey British National Grid Grids Examples\n",
    "\n",
    "* The [`osbng`](https://github.com/OrdnanceSurvey/osbng-py) Python package supports geospatial grid indexing and interaction with Ordnance Survey's British National Grid (BNG) index system.\n",
    "* The `osbng.grids` module provides functionality to generate BNG grid square data within specified bounds. This notebook provides examples of creating data at a range of resolutions and accross custom bounds."
   ]
  },
  {
   "cell_type": "code",
   "execution_count": 5,
   "metadata": {},
   "outputs": [],
   "source": [
    "import geopandas as gpd\n",
    "import matplotlib.pyplot as plt\n",
    "from shapely.geometry import shape\n",
    "\n",
    "from osbng.bng_reference import BNGReference\n",
    "from osbng.grids import BNG_BOUNDS, bbox_to_bng_iterfeatures, bng_grid_100km"
   ]
  },
  {
   "cell_type": "markdown",
   "metadata": {},
   "source": [
    "## `osbng.bng_reference.BNGReference`\n",
    "\n",
    "* The `osbng.bng_reference.BNGReference` object encapsulates a BNG reference and the associated grid square geometry. \n",
    "* The `BNGReference` object can be converted to a GeoJSON-like Feature object using the [`__geo_interface__`](https://gist.github.com/sgillies/2217756) property."
   ]
  },
  {
   "cell_type": "code",
   "execution_count": 6,
   "metadata": {},
   "outputs": [
    {
     "data": {
      "text/plain": [
       "{'type': 'Feature',\n",
       " 'properties': {'bng_ref': 'SU'},\n",
       " 'geometry': {'type': 'Polygon',\n",
       "  'coordinates': (((500000.0, 100000.0),\n",
       "    (500000.0, 200000.0),\n",
       "    (400000.0, 200000.0),\n",
       "    (400000.0, 100000.0),\n",
       "    (500000.0, 100000.0)),)}}"
      ]
     },
     "execution_count": 6,
     "metadata": {},
     "output_type": "execute_result"
    }
   ],
   "source": [
    "BNGReference(bng_ref_string=\"SU\").__geo_interface__"
   ]
  },
  {
   "cell_type": "markdown",
   "metadata": {},
   "source": [
    "## `osbng.grids`\n",
    "\n",
    "* Grid square data covering the BNG index system bounds is provided with the `osbng` package as iterators at 100km, 50km, 10km, 5km and 1km resolutions.\n",
    "* See `bng_grid_<resolution>` in `osbng.grids` module.\n",
    "* Each iterator supports the generation of `BNGReference` objects as GeoJSON-like Features using the `__geo_interface__` protocol.\n",
    "* The `__geo_interface__` protocol used to represent `BNGReference` objects supports integration with Python geospatial libraries and tools such as [Shapely](https://github.com/shapely/shapely) and [GeoPandas](https://github.com/geopandas/geopandas)."
   ]
  },
  {
   "cell_type": "code",
   "execution_count": 7,
   "metadata": {},
   "outputs": [],
   "source": [
    "# Convert the iterator to a list to generate the Features\n",
    "bng_grid_100km_list = list(bng_grid_100km)"
   ]
  },
  {
   "cell_type": "code",
   "execution_count": 8,
   "metadata": {},
   "outputs": [
    {
     "name": "stdout",
     "output_type": "stream",
     "text": [
      "{'type': 'Feature', 'properties': {'bng_ref': 'SV'}, 'geometry': {'type': 'Polygon', 'coordinates': (((100000.0, 0.0), (100000.0, 100000.0), (0.0, 100000.0), (0.0, 0.0), (100000.0, 0.0)),)}}\n"
     ]
    }
   ],
   "source": [
    "# Return the first Feature\n",
    "print(bng_grid_100km_list[0])"
   ]
  },
  {
   "cell_type": "code",
   "execution_count": 9,
   "metadata": {},
   "outputs": [
    {
     "data": {
      "image/svg+xml": [
       "<svg xmlns=\"http://www.w3.org/2000/svg\" xmlns:xlink=\"http://www.w3.org/1999/xlink\" width=\"300\" height=\"300\" viewBox=\"-4000.0 -4000.0 108000.0 108000.0\" preserveAspectRatio=\"xMinYMin meet\"><g transform=\"matrix(1,0,0,-1,0,100000.0)\"><path fill-rule=\"evenodd\" fill=\"#66cc99\" stroke=\"#555555\" stroke-width=\"720.0\" opacity=\"0.6\" d=\"M 100000.0,0.0 L 100000.0,100000.0 L 0.0,100000.0 L 0.0,0.0 L 100000.0,0.0 z\" /></g></svg>"
      ],
      "text/plain": [
       "<POLYGON ((100000 0, 100000 100000, 0 100000, 0 0, 100000 0))>"
      ]
     },
     "execution_count": 9,
     "metadata": {},
     "output_type": "execute_result"
    }
   ],
   "source": [
    "# Create a Shapely Geometry object from a BNGReference object Feature\n",
    "shape(bng_grid_100km_list[0][\"geometry\"])"
   ]
  },
  {
   "cell_type": "code",
   "execution_count": 10,
   "metadata": {},
   "outputs": [
    {
     "data": {
      "text/html": [
       "<div>\n",
       "<style scoped>\n",
       "    .dataframe tbody tr th:only-of-type {\n",
       "        vertical-align: middle;\n",
       "    }\n",
       "\n",
       "    .dataframe tbody tr th {\n",
       "        vertical-align: top;\n",
       "    }\n",
       "\n",
       "    .dataframe thead th {\n",
       "        text-align: right;\n",
       "    }\n",
       "</style>\n",
       "<table border=\"1\" class=\"dataframe\">\n",
       "  <thead>\n",
       "    <tr style=\"text-align: right;\">\n",
       "      <th></th>\n",
       "      <th>geometry</th>\n",
       "      <th>bng_ref</th>\n",
       "    </tr>\n",
       "  </thead>\n",
       "  <tbody>\n",
       "    <tr>\n",
       "      <th>0</th>\n",
       "      <td>POLYGON ((100000 0, 100000 100000, 0 100000, 0...</td>\n",
       "      <td>SV</td>\n",
       "    </tr>\n",
       "    <tr>\n",
       "      <th>1</th>\n",
       "      <td>POLYGON ((200000 0, 200000 100000, 100000 1000...</td>\n",
       "      <td>SW</td>\n",
       "    </tr>\n",
       "    <tr>\n",
       "      <th>2</th>\n",
       "      <td>POLYGON ((300000 0, 300000 100000, 200000 1000...</td>\n",
       "      <td>SX</td>\n",
       "    </tr>\n",
       "    <tr>\n",
       "      <th>3</th>\n",
       "      <td>POLYGON ((400000 0, 400000 100000, 300000 1000...</td>\n",
       "      <td>SY</td>\n",
       "    </tr>\n",
       "    <tr>\n",
       "      <th>4</th>\n",
       "      <td>POLYGON ((500000 0, 500000 100000, 400000 1000...</td>\n",
       "      <td>SZ</td>\n",
       "    </tr>\n",
       "  </tbody>\n",
       "</table>\n",
       "</div>"
      ],
      "text/plain": [
       "                                            geometry bng_ref\n",
       "0  POLYGON ((100000 0, 100000 100000, 0 100000, 0...      SV\n",
       "1  POLYGON ((200000 0, 200000 100000, 100000 1000...      SW\n",
       "2  POLYGON ((300000 0, 300000 100000, 200000 1000...      SX\n",
       "3  POLYGON ((400000 0, 400000 100000, 300000 1000...      SY\n",
       "4  POLYGON ((500000 0, 500000 100000, 400000 1000...      SZ"
      ]
     },
     "execution_count": 10,
     "metadata": {},
     "output_type": "execute_result"
    }
   ],
   "source": [
    "# Create a GeoPandas GeoDataFrame from an iterator or list of BNGReference object Features\n",
    "# This example uses the list as the iterator has been consumed above\n",
    "# Set the coordinate reference system to British National Grid (EPSG: 27700)\n",
    "# https://epsg.io/27700\n",
    "gdf = gpd.GeoDataFrame.from_features(bng_grid_100km_list, crs=27700)\n",
    "\n",
    "gdf.head()"
   ]
  },
  {
   "cell_type": "code",
   "execution_count": 11,
   "metadata": {},
   "outputs": [
    {
     "data": {
      "image/png": "[encoded data removed]",
      "text/plain": [
       "<Figure size 1000x1000 with 1 Axes>"
      ]
     },
     "metadata": {},
     "output_type": "display_data"
    }
   ],
   "source": [
    "# Create matplotlib figure and axis\n",
    "f, ax = plt.subplots(figsize=(10, 10))\n",
    "\n",
    "# Plot the grid squares GeoDataFrame with black borders and no fill\n",
    "gdf.plot(ax=ax, edgecolor=\"black\", facecolor=\"none\")\n",
    "\n",
    "# Add feature labels\n",
    "for idx, row in gdf.iterrows():\n",
    "    ax.text(\n",
    "        row[\"geometry\"].centroid.x,\n",
    "        row[\"geometry\"].centroid.y,\n",
    "        row[\"bng_ref\"],\n",
    "        fontsize=8,\n",
    "        fontweight=\"light\",\n",
    "        ha=\"center\",\n",
    "        va=\"center\",\n",
    "    )\n",
    "\n",
    "# Set axis labels\n",
    "ax.set_xlabel(\"Easting\")\n",
    "ax.set_ylabel(\"Northing\")\n",
    "\n",
    "# Remove the figure frame but keep the ticks and tick labels\n",
    "ax.spines[\"top\"].set_visible(False)\n",
    "ax.spines[\"right\"].set_visible(False)\n",
    "ax.spines[\"left\"].set_visible(False)\n",
    "ax.spines[\"bottom\"].set_visible(False)\n",
    "\n",
    "# Disable scientific notation for both axes\n",
    "ax.ticklabel_format(style=\"plain\", axis=\"both\")\n",
    "\n",
    "# Rotate x axis tick labels by 90 degrees anticlockwise\n",
    "plt.xticks(rotation=90)\n",
    "\n",
    "# Add whitespace between x and y axis labels and tick labels\n",
    "ax.xaxis.labelpad = 20\n",
    "ax.yaxis.labelpad = 20"
   ]
  },
  {
   "cell_type": "markdown",
   "metadata": {},
   "source": [
    "## `osbng.grids.BNG_BOUNDS`\n",
    "\n",
    "* `osbng.grids.BNG_BOUNDS` provides the BNG index system bounds as bounding box coordinates (xmin, ymin, xmax, ymax).\n",
    "* The `osbng.grids.bbox_to_bng_iterfeatures` function returns an iterator of `BNGReference` objects represented using a GeoJSON-like mapping within specified bounds at a specified resolution. This function can be used to generate BNG grid data at different resolutions over custom bounds."
   ]
  },
  {
   "cell_type": "code",
   "execution_count": 12,
   "metadata": {},
   "outputs": [
    {
     "data": {
      "text/plain": [
       "(0, 0, 700000, 1300000)"
      ]
     },
     "execution_count": 12,
     "metadata": {},
     "output_type": "execute_result"
    }
   ],
   "source": [
    "BNG_BOUNDS"
   ]
  },
  {
   "cell_type": "code",
   "execution_count": 13,
   "metadata": {},
   "outputs": [
    {
     "name": "stdout",
     "output_type": "stream",
     "text": [
      "[{'type': 'Feature', 'properties': {'bng_ref': 'TQ294796'}, 'geometry': {'type': 'Polygon', 'coordinates': (((529500.0, 179600.0), (529500.0, 179700.0), (529400.0, 179700.0), (529400.0, 179600.0), (529500.0, 179600.0)),)}}, {'type': 'Feature', 'properties': {'bng_ref': 'TQ295796'}, 'geometry': {'type': 'Polygon', 'coordinates': (((529600.0, 179600.0), (529600.0, 179700.0), (529500.0, 179700.0), (529500.0, 179600.0), (529600.0, 179600.0)),)}}, {'type': 'Feature', 'properties': {'bng_ref': 'TQ296796'}, 'geometry': {'type': 'Polygon', 'coordinates': (((529700.0, 179600.0), (529700.0, 179700.0), (529600.0, 179700.0), (529600.0, 179600.0), (529700.0, 179600.0)),)}}, {'type': 'Feature', 'properties': {'bng_ref': 'TQ297796'}, 'geometry': {'type': 'Polygon', 'coordinates': (((529800.0, 179600.0), (529800.0, 179700.0), (529700.0, 179700.0), (529700.0, 179600.0), (529800.0, 179600.0)),)}}, {'type': 'Feature', 'properties': {'bng_ref': 'TQ298796'}, 'geometry': {'type': 'Polygon', 'coordinates': (((529900.0, 179600.0), (529900.0, 179700.0), (529800.0, 179700.0), (529800.0, 179600.0), (529900.0, 179600.0)),)}}]\n"
     ]
    }
   ],
   "source": [
    "# Custom bounding box coordinates\n",
    "# (x_min, y_min, x_max, y_max)\n",
    "bbox = (529476, 179654, 532170, 181116)\n",
    "\n",
    "# Generate BNGReference object Features covering the custom bounds at 100m resolution\n",
    "bng_grid_100m_custom_list = list(bbox_to_bng_iterfeatures(*bbox, \"100m\"))\n",
    "\n",
    "# First 5 Features\n",
    "print(bng_grid_100m_custom_list[:5])"
   ]
  },
  {
   "cell_type": "code",
   "execution_count": 14,
   "metadata": {},
   "outputs": [
    {
     "data": {
      "text/html": [
       "<div>\n",
       "<style scoped>\n",
       "    .dataframe tbody tr th:only-of-type {\n",
       "        vertical-align: middle;\n",
       "    }\n",
       "\n",
       "    .dataframe tbody tr th {\n",
       "        vertical-align: top;\n",
       "    }\n",
       "\n",
       "    .dataframe thead th {\n",
       "        text-align: right;\n",
       "    }\n",
       "</style>\n",
       "<table border=\"1\" class=\"dataframe\">\n",
       "  <thead>\n",
       "    <tr style=\"text-align: right;\">\n",
       "      <th></th>\n",
       "      <th>geometry</th>\n",
       "      <th>bng_ref</th>\n",
       "    </tr>\n",
       "  </thead>\n",
       "  <tbody>\n",
       "    <tr>\n",
       "      <th>0</th>\n",
       "      <td>POLYGON ((529500 179600, 529500 179700, 529400...</td>\n",
       "      <td>TQ294796</td>\n",
       "    </tr>\n",
       "    <tr>\n",
       "      <th>1</th>\n",
       "      <td>POLYGON ((529600 179600, 529600 179700, 529500...</td>\n",
       "      <td>TQ295796</td>\n",
       "    </tr>\n",
       "    <tr>\n",
       "      <th>2</th>\n",
       "      <td>POLYGON ((529700 179600, 529700 179700, 529600...</td>\n",
       "      <td>TQ296796</td>\n",
       "    </tr>\n",
       "    <tr>\n",
       "      <th>3</th>\n",
       "      <td>POLYGON ((529800 179600, 529800 179700, 529700...</td>\n",
       "      <td>TQ297796</td>\n",
       "    </tr>\n",
       "    <tr>\n",
       "      <th>4</th>\n",
       "      <td>POLYGON ((529900 179600, 529900 179700, 529800...</td>\n",
       "      <td>TQ298796</td>\n",
       "    </tr>\n",
       "  </tbody>\n",
       "</table>\n",
       "</div>"
      ],
      "text/plain": [
       "                                            geometry   bng_ref\n",
       "0  POLYGON ((529500 179600, 529500 179700, 529400...  TQ294796\n",
       "1  POLYGON ((529600 179600, 529600 179700, 529500...  TQ295796\n",
       "2  POLYGON ((529700 179600, 529700 179700, 529600...  TQ296796\n",
       "3  POLYGON ((529800 179600, 529800 179700, 529700...  TQ297796\n",
       "4  POLYGON ((529900 179600, 529900 179700, 529800...  TQ298796"
      ]
     },
     "execution_count": 14,
     "metadata": {},
     "output_type": "execute_result"
    }
   ],
   "source": [
    "# Create a GeoPandas GeoDataFrame from the 100m BNGReference object Features\n",
    "bng_grid_100m_custom_gdf = gpd.GeoDataFrame.from_features(bng_grid_100m_custom_list, crs=27700)\n",
    "\n",
    "bng_grid_100m_custom_gdf.head()"
   ]
  },
  {
   "cell_type": "code",
   "execution_count": 15,
   "metadata": {},
   "outputs": [
    {
     "data": {
      "text/html": [
       "<div>\n",
       "<style scoped>\n",
       "    .dataframe tbody tr th:only-of-type {\n",
       "        vertical-align: middle;\n",
       "    }\n",
       "\n",
       "    .dataframe tbody tr th {\n",
       "        vertical-align: top;\n",
       "    }\n",
       "\n",
       "    .dataframe thead th {\n",
       "        text-align: right;\n",
       "    }\n",
       "</style>\n",
       "<table border=\"1\" class=\"dataframe\">\n",
       "  <thead>\n",
       "    <tr style=\"text-align: right;\">\n",
       "      <th></th>\n",
       "      <th>geometry</th>\n",
       "      <th>bng_ref</th>\n",
       "    </tr>\n",
       "  </thead>\n",
       "  <tbody>\n",
       "    <tr>\n",
       "      <th>0</th>\n",
       "      <td>POLYGON ((530000 179000, 530000 180000, 529000...</td>\n",
       "      <td>TQ2979</td>\n",
       "    </tr>\n",
       "    <tr>\n",
       "      <th>1</th>\n",
       "      <td>POLYGON ((531000 179000, 531000 180000, 530000...</td>\n",
       "      <td>TQ3079</td>\n",
       "    </tr>\n",
       "    <tr>\n",
       "      <th>2</th>\n",
       "      <td>POLYGON ((532000 179000, 532000 180000, 531000...</td>\n",
       "      <td>TQ3179</td>\n",
       "    </tr>\n",
       "    <tr>\n",
       "      <th>3</th>\n",
       "      <td>POLYGON ((533000 179000, 533000 180000, 532000...</td>\n",
       "      <td>TQ3279</td>\n",
       "    </tr>\n",
       "    <tr>\n",
       "      <th>4</th>\n",
       "      <td>POLYGON ((530000 180000, 530000 181000, 529000...</td>\n",
       "      <td>TQ2980</td>\n",
       "    </tr>\n",
       "  </tbody>\n",
       "</table>\n",
       "</div>"
      ],
      "text/plain": [
       "                                            geometry bng_ref\n",
       "0  POLYGON ((530000 179000, 530000 180000, 529000...  TQ2979\n",
       "1  POLYGON ((531000 179000, 531000 180000, 530000...  TQ3079\n",
       "2  POLYGON ((532000 179000, 532000 180000, 531000...  TQ3179\n",
       "3  POLYGON ((533000 179000, 533000 180000, 532000...  TQ3279\n",
       "4  POLYGON ((530000 180000, 530000 181000, 529000...  TQ2980"
      ]
     },
     "execution_count": 15,
     "metadata": {},
     "output_type": "execute_result"
    }
   ],
   "source": [
    "# Generate BNGReference object Features covering the same custom bounds at 1km resolution\n",
    "# Provides context for the 100m resolution grid squares\n",
    "bng_grid_1km_custom_list = list(bbox_to_bng_iterfeatures(*bbox, \"1km\"))\n",
    "\n",
    "# Create a GeoPandas GeoDataFrame from the 1km BNGReference object Features\n",
    "bng_grid_1km_custom_gdf = gpd.GeoDataFrame.from_features(bng_grid_1km_custom_list, crs=27700)\n",
    "\n",
    "bng_grid_1km_custom_gdf.head()"
   ]
  },
  {
   "cell_type": "code",
   "execution_count": 16,
   "metadata": {},
   "outputs": [
    {
     "data": {
      "image/png": "[encoded data removed]",
      "text/plain": [
       "<Figure size 1000x1000 with 1 Axes>"
      ]
     },
     "metadata": {},
     "output_type": "display_data"
    }
   ],
   "source": [
    "# Create matplotlib figure and axis\n",
    "f, ax = plt.subplots(figsize=(10, 10))\n",
    "\n",
    "# Plot the grid squares GeoDataFrames with black borders and no fill\n",
    "bng_grid_1km_custom_gdf.plot(ax=ax, edgecolor=\"black\", facecolor=\"none\", linewidth=2)\n",
    "bng_grid_100m_custom_gdf.plot(ax=ax, edgecolor=\"black\", facecolor=\"none\", linewidth=0.5)\n",
    "\n",
    "# Set axis labels\n",
    "ax.set_xlabel(\"Easting\")\n",
    "ax.set_ylabel(\"Northing\")\n",
    "\n",
    "# Remove the figure frame but keep the ticks and tick labels\n",
    "ax.spines[\"top\"].set_visible(False)\n",
    "ax.spines[\"right\"].set_visible(False)\n",
    "ax.spines[\"left\"].set_visible(False)\n",
    "ax.spines[\"bottom\"].set_visible(False)\n",
    "\n",
    "# Disable scientific notation for both axes\n",
    "ax.ticklabel_format(style=\"plain\", axis=\"both\")\n",
    "\n",
    "# Rotate x axis tick labels by 90 degrees anticlockwise\n",
    "plt.xticks(rotation=90)\n",
    "\n",
    "# Add whitespace between x and y axis labels and tick labels\n",
    "ax.xaxis.labelpad = 20\n",
    "ax.yaxis.labelpad = 20"
   ]
  }
 ],
 "metadata": {
  "kernelspec": {
   "display_name": "osbng-ecosystem",
   "language": "python",
   "name": "python3"
  },
  "language_info": {
   "codemirror_mode": {
    "name": "ipython",
    "version": 3
   },
   "file_extension": ".py",
   "mimetype": "text/x-python",
   "name": "python",
   "nbconvert_exporter": "python",
   "pygments_lexer": "ipython3",
   "version": "3.13.3"
  }
 },
 "nbformat": 4,
 "nbformat_minor": 2
}
